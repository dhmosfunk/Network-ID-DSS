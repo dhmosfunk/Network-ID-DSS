{
 "cells": [
  {
   "cell_type": "code",
   "execution_count": 29,
   "id": "f63dbe3e-eadc-4d56-844e-cfab3367435b",
   "metadata": {},
   "outputs": [],
   "source": [
    "import pandas as pd\n",
    "from sklearn.ensemble import RandomForestClassifier,VotingClassifier\n",
    "from sklearn.tree import DecisionTreeClassifier\n",
    "import numpy as np\n",
    "from sklearn.feature_selection import SelectKBest,RFE\n",
    "from sklearn.model_selection import cross_val_score\n",
    "from sklearn.metrics import accuracy_score\n",
    "\n"
   ]
  },
  {
   "cell_type": "code",
   "execution_count": 30,
   "id": "6a9516db-3d59-4543-8869-9edb4d1b7e24",
   "metadata": {},
   "outputs": [],
   "source": [
    "col_names = [\"duration\",\"protocol_type\",\"service\",\"flag\",\"src_bytes\",\n",
    "    \"dst_bytes\",\"land\",\"wrong_fragment\",\"urgent\",\"hot\",\"num_failed_logins\",\n",
    "    \"logged_in\",\"num_compromised\",\"root_shell\",\"su_attempted\",\"num_root\",\n",
    "    \"num_file_creations\",\"num_shells\",\"num_access_files\",\"num_outbound_cmds\",\n",
    "    \"is_host_login\",\"is_guest_login\",\"count\",\"srv_count\",\"serror_rate\",\n",
    "    \"srv_serror_rate\",\"rerror_rate\",\"srv_rerror_rate\",\"same_srv_rate\",\n",
    "    \"diff_srv_rate\",\"srv_diff_host_rate\",\"dst_host_count\",\"dst_host_srv_count\",\n",
    "    \"dst_host_same_srv_rate\",\"dst_host_diff_srv_rate\",\"dst_host_same_src_port_rate\",\n",
    "    \"dst_host_srv_diff_host_rate\",\"dst_host_serror_rate\",\"dst_host_srv_serror_rate\",\n",
    "    \"dst_host_rerror_rate\",\"dst_host_srv_rerror_rate\",\"label\"]"
   ]
  },
  {
   "cell_type": "code",
   "execution_count": 3,
   "id": "ea1ba7d5-7d8a-44eb-8d94-eec1d3976ac7",
   "metadata": {},
   "outputs": [],
   "source": [
    "train = pd.read_csv(\"KDDTrain+_2.csv\",names=col_names)\n",
    "test = pd.read_csv(\"KDDTest+_2.csv\",names=col_names)"
   ]
  },
  {
   "cell_type": "code",
   "execution_count": 4,
   "id": "8df8dce8-0e59-4a39-9381-b5a60e80ab95",
   "metadata": {
    "collapsed": false,
    "jupyter": {
     "outputs_hidden": false
    }
   },
   "outputs": [
    {
     "name": "stdout",
     "output_type": "stream",
     "text": [
      "Training set:\n",
      "Feature 'protocol_type' has 3 categories\n",
      "Feature 'service' has 70 categories\n",
      "Feature 'flag' has 11 categories\n",
      "Feature 'label' has 23 categories\n",
      "\n",
      "Distribution of categories in service:\n",
      "http        40338\n",
      "private     21853\n",
      "domain_u     9043\n",
      "smtp         7313\n",
      "ftp_data     6860\n",
      "Name: service, dtype: int64\n"
     ]
    }
   ],
   "source": [
    "# colums that are categorical and not binary yet: protocol_type (column 2), service (column 3), flag (column 4).\n",
    "# explore categorical features\n",
    "print('Training set:')\n",
    "for col_name in train.columns:\n",
    "    if train[col_name].dtypes == 'object' :\n",
    "        unique_cat = len(train[col_name].unique())\n",
    "        print(\"Feature '{col_name}' has {unique_cat} categories\".format(col_name=col_name, unique_cat=unique_cat))\n",
    "\n",
    "#see how distributed the feature service is, it is evenly distributed and therefore we need to make dummies for all.\n",
    "print()\n",
    "print('Distribution of categories in service:')\n",
    "print(train['service'].value_counts().sort_values(ascending=False).head())"
   ]
  },
  {
   "cell_type": "code",
   "execution_count": 5,
   "id": "fd1f9be1-54b8-4967-96b5-78848b61fb15",
   "metadata": {
    "collapsed": false,
    "jupyter": {
     "outputs_hidden": false
    }
   },
   "outputs": [
    {
     "name": "stdout",
     "output_type": "stream",
     "text": [
      "Test set:\n",
      "Feature 'protocol_type' has 3 categories\n",
      "Feature 'service' has 64 categories\n",
      "Feature 'flag' has 11 categories\n",
      "Feature 'label' has 38 categories\n"
     ]
    }
   ],
   "source": [
    "# Test set\n",
    "print('Test set:')\n",
    "for col_name in test.columns:\n",
    "    if test[col_name].dtypes == 'object' :\n",
    "        unique_cat = len(test[col_name].unique())\n",
    "        print(\"Feature '{col_name}' has {unique_cat} categories\".format(col_name=col_name, unique_cat=unique_cat))"
   ]
  },
  {
   "cell_type": "code",
   "execution_count": 6,
   "id": "a3216062-968c-4d34-b0df-9f42ac03546a",
   "metadata": {},
   "outputs": [],
   "source": [
    "categorical_features = ['protocol_type','service','flag',]"
   ]
  },
  {
   "cell_type": "code",
   "execution_count": 7,
   "id": "29eccbbd-0753-43b7-956e-e2112da694ad",
   "metadata": {},
   "outputs": [],
   "source": [
    "def one_hot(data,categorical_features=categorical_features):\n",
    "    for col in categorical_features:\n",
    "        one_hot =pd.get_dummies(data[col],prefix=col)\n",
    "\n",
    "        data =  pd.concat([data,one_hot],axis=1)\n",
    "    # data.drop(categorical_features,axis=1)\n",
    "    return data"
   ]
  },
  {
   "cell_type": "code",
   "execution_count": null,
   "id": "a4bef695-7028-4d07-bdf6-20fce3d2d9eb",
   "metadata": {},
   "outputs": [],
   "source": []
  },
  {
   "cell_type": "code",
   "execution_count": 8,
   "id": "06aab6af-aae2-4736-83dd-2991702746ce",
   "metadata": {},
   "outputs": [],
   "source": [
    "train1 = train.copy()"
   ]
  },
  {
   "cell_type": "code",
   "execution_count": 9,
   "id": "46823ff2-26dd-45ee-9d7a-d1a98098583a",
   "metadata": {},
   "outputs": [],
   "source": [
    "train1.to_csv('train1.csv',index=False)"
   ]
  },
  {
   "cell_type": "code",
   "execution_count": 10,
   "id": "1e24212b-f053-477f-91ca-24ae5823c4d7",
   "metadata": {},
   "outputs": [],
   "source": [
    "train = one_hot(train)\n",
    "test = one_hot(test)"
   ]
  },
  {
   "cell_type": "code",
   "execution_count": 11,
   "id": "4e4f073d-a69f-47d1-b9e4-36911c082cb0",
   "metadata": {},
   "outputs": [
    {
     "data": {
      "text/plain": [
       "['service_urh_i',\n",
       " 'service_aol',\n",
       " 'service_red_i',\n",
       " 'service_harvest',\n",
       " 'service_http_8001',\n",
       " 'service_http_2784']"
      ]
     },
     "execution_count": 11,
     "metadata": {},
     "output_type": "execute_result"
    }
   ],
   "source": [
    "trainservice=train['service'].tolist()\n",
    "testservice= test['service'].tolist()\n",
    "difference=list(set(trainservice) - set(testservice))\n",
    "string = 'service_'\n",
    "difference=[string + x for x in difference]\n",
    "difference"
   ]
  },
  {
   "cell_type": "code",
   "execution_count": 12,
   "id": "25dfd031-5703-4065-8b6a-755fc0173bec",
   "metadata": {},
   "outputs": [],
   "source": [
    "for col in difference:\n",
    "    test[col] = 0"
   ]
  },
  {
   "cell_type": "code",
   "execution_count": 13,
   "id": "cbe3b0ab-1a51-4bb1-8867-755c62469a4a",
   "metadata": {},
   "outputs": [],
   "source": [
    "train = train.drop(categorical_features,axis=1)\n",
    "test = test.drop(categorical_features,axis=1)\n"
   ]
  },
  {
   "cell_type": "code",
   "execution_count": 14,
   "id": "1f821e23-19b7-44f9-920b-181babca5e2a",
   "metadata": {},
   "outputs": [],
   "source": [
    "# print(np.mean(cross_val_score(DS,X,Y,cv=10)))"
   ]
  },
  {
   "cell_type": "code",
   "execution_count": 15,
   "id": "b2ae6015-37a0-409c-b93d-62ce69c60095",
   "metadata": {},
   "outputs": [],
   "source": [
    "X = train.drop(\"label\",axis=1)\n",
    "Y = train['label']\n",
    "X_test = test.drop(\"label\",axis=1)\n",
    "Y_test = test['label']"
   ]
  },
  {
   "cell_type": "code",
   "execution_count": 16,
   "id": "d62cd751-d5fc-4f91-a811-7f94dae0adba",
   "metadata": {},
   "outputs": [],
   "source": [
    "DS = RandomForestClassifier(n_estimators=1000)"
   ]
  },
  {
   "cell_type": "code",
   "execution_count": null,
   "id": "78a2738b",
   "metadata": {},
   "outputs": [],
   "source": []
  },
  {
   "cell_type": "code",
   "execution_count": 17,
   "id": "92aa2477-1d6c-48cb-9ac9-291edad1426e",
   "metadata": {},
   "outputs": [],
   "source": [
    "from sklearn.model_selection import train_test_split"
   ]
  },
  {
   "cell_type": "code",
   "execution_count": 18,
   "id": "db06901a-e0e7-4e33-b0e8-b8f5f5e5db7c",
   "metadata": {},
   "outputs": [
    {
     "data": {
      "text/plain": [
       "RandomForestClassifier(n_estimators=800)"
      ]
     },
     "execution_count": 18,
     "metadata": {},
     "output_type": "execute_result"
    }
   ],
   "source": [
    "DS.fit(X,Y)"
   ]
  },
  {
   "cell_type": "code",
   "execution_count": 19,
   "id": "e0633d95-d116-4fe8-b0bf-72614ac035c3",
   "metadata": {},
   "outputs": [],
   "source": [
    "from sklearn import tree"
   ]
  },
  {
   "cell_type": "code",
   "execution_count": 20,
   "id": "aec346cd-c255-4ff2-a9c2-c8de5e7566d4",
   "metadata": {},
   "outputs": [
    {
     "name": "stderr",
     "output_type": "stream",
     "text": [
      "/home/makis/anaconda3/envs/tf/lib/python3.10/site-packages/sklearn/base.py:493: FutureWarning: The feature names should match those that were passed during fit. Starting version 1.2, an error will be raised.\n",
      "Feature names must be in the same order as they were in fit.\n",
      "\n",
      "  warnings.warn(message, FutureWarning)\n"
     ]
    }
   ],
   "source": [
    "test = DS.predict(X_test)"
   ]
  },
  {
   "cell_type": "code",
   "execution_count": 21,
   "id": "d2c9a458-ce58-4f60-a2f8-ace485aa5b76",
   "metadata": {},
   "outputs": [],
   "source": [
    "from sklearn.metrics import classification_report"
   ]
  },
  {
   "cell_type": "code",
   "execution_count": 22,
   "id": "79d83fbb-97cd-4d37-bf31-741c51fa52eb",
   "metadata": {},
   "outputs": [
    {
     "name": "stderr",
     "output_type": "stream",
     "text": [
      "/home/makis/anaconda3/envs/tf/lib/python3.10/site-packages/sklearn/metrics/_classification.py:1318: UndefinedMetricWarning: Precision and F-score are ill-defined and being set to 0.0 in labels with no predicted samples. Use `zero_division` parameter to control this behavior.\n",
      "  _warn_prf(average, modifier, msg_start, len(result))\n",
      "/home/makis/anaconda3/envs/tf/lib/python3.10/site-packages/sklearn/metrics/_classification.py:1318: UndefinedMetricWarning: Recall and F-score are ill-defined and being set to 0.0 in labels with no true samples. Use `zero_division` parameter to control this behavior.\n",
      "  _warn_prf(average, modifier, msg_start, len(result))\n"
     ]
    },
    {
     "name": "stdout",
     "output_type": "stream",
     "text": [
      "                 precision    recall  f1-score   support\n",
      "\n",
      "         normal       0.59      0.98      0.74      9711\n",
      "        neptune       0.99      0.99      0.99      4657\n",
      "    warezclient       0.00      0.00      0.00         0\n",
      "        ipsweep       0.99      0.99      0.99       141\n",
      "      portsweep       0.75      0.97      0.85       157\n",
      "       teardrop       0.24      0.75      0.36        12\n",
      "           nmap       1.00      1.00      1.00        73\n",
      "          satan       0.67      1.00      0.80       735\n",
      "          smurf       1.00      0.00      0.01       665\n",
      "            pod       0.88      0.17      0.29        41\n",
      "           back       1.00      0.75      0.86       359\n",
      "   guess_passwd       0.00      0.00      0.00      1231\n",
      "      ftp_write       0.00      0.00      0.00         3\n",
      "       multihop       0.00      0.00      0.00        18\n",
      "        rootkit       0.00      0.00      0.00        13\n",
      "buffer_overflow       0.00      0.00      0.00        20\n",
      "           imap       0.00      0.00      0.00         1\n",
      "    warezmaster       0.00      0.00      0.00       944\n",
      "            phf       0.00      0.00      0.00         2\n",
      "           land       0.00      0.00      0.00         7\n",
      "     loadmodule       0.00      0.00      0.00         2\n",
      "            spy       0.00      0.00      0.00         0\n",
      "           perl       0.00      0.00      0.00         2\n",
      "\n",
      "      micro avg       0.69      0.82      0.75     18794\n",
      "      macro avg       0.35      0.33      0.30     18794\n",
      "   weighted avg       0.65      0.82      0.69     18794\n",
      "\n"
     ]
    },
    {
     "name": "stderr",
     "output_type": "stream",
     "text": [
      "/home/makis/anaconda3/envs/tf/lib/python3.10/site-packages/sklearn/metrics/_classification.py:1318: UndefinedMetricWarning: Precision and F-score are ill-defined and being set to 0.0 in labels with no predicted samples. Use `zero_division` parameter to control this behavior.\n",
      "  _warn_prf(average, modifier, msg_start, len(result))\n",
      "/home/makis/anaconda3/envs/tf/lib/python3.10/site-packages/sklearn/metrics/_classification.py:1318: UndefinedMetricWarning: Recall and F-score are ill-defined and being set to 0.0 in labels with no true samples. Use `zero_division` parameter to control this behavior.\n",
      "  _warn_prf(average, modifier, msg_start, len(result))\n",
      "/home/makis/anaconda3/envs/tf/lib/python3.10/site-packages/sklearn/metrics/_classification.py:1318: UndefinedMetricWarning: Precision and F-score are ill-defined and being set to 0.0 in labels with no predicted samples. Use `zero_division` parameter to control this behavior.\n",
      "  _warn_prf(average, modifier, msg_start, len(result))\n",
      "/home/makis/anaconda3/envs/tf/lib/python3.10/site-packages/sklearn/metrics/_classification.py:1318: UndefinedMetricWarning: Recall and F-score are ill-defined and being set to 0.0 in labels with no true samples. Use `zero_division` parameter to control this behavior.\n",
      "  _warn_prf(average, modifier, msg_start, len(result))\n"
     ]
    }
   ],
   "source": [
    "print(classification_report(Y_test,test,labels=train['label'].unique()))"
   ]
  },
  {
   "cell_type": "code",
   "execution_count": 31,
   "id": "939efaa7-0b2a-428f-aaed-9097815a3fb3",
   "metadata": {},
   "outputs": [
    {
     "data": {
      "text/plain": [
       "0.6871451383960255"
      ]
     },
     "execution_count": 31,
     "metadata": {},
     "output_type": "execute_result"
    }
   ],
   "source": [
    "accuracy_score(Y_test,test)"
   ]
  },
  {
   "cell_type": "code",
   "execution_count": 23,
   "id": "beebc5b4-aedd-4301-937a-855cad110884",
   "metadata": {},
   "outputs": [],
   "source": [
    "import pickle"
   ]
  },
  {
   "cell_type": "code",
   "execution_count": 24,
   "id": "186f63ba",
   "metadata": {},
   "outputs": [],
   "source": [
    "pickle.dump(DS,open('model.sav','wb'))"
   ]
  },
  {
   "cell_type": "code",
   "execution_count": null,
   "id": "44fd95c1-8a99-4a5e-93a4-1d22788b1475",
   "metadata": {},
   "outputs": [],
   "source": []
  }
 ],
 "metadata": {
  "interpreter": {
   "hash": "18c3dee224c0655bcf6a10007ed245b19f39df1c7de74e6937731d1396797e82"
  },
  "kernelspec": {
   "display_name": "Python [conda env:tf]",
   "language": "python",
   "name": "conda-env-tf-py"
  },
  "language_info": {
   "codemirror_mode": {
    "name": "ipython",
    "version": 3
   },
   "file_extension": ".py",
   "mimetype": "text/x-python",
   "name": "python",
   "nbconvert_exporter": "python",
   "pygments_lexer": "ipython3",
   "version": "3.10.4"
  }
 },
 "nbformat": 4,
 "nbformat_minor": 5
}
